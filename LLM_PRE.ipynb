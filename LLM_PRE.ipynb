{
 "cells": [
  {
   "cell_type": "code",
   "execution_count": 11,
   "id": "5a41491a",
   "metadata": {},
   "outputs": [
    {
     "ename": "FileNotFoundError",
     "evalue": "PDF file not found: start/onesource.pdf",
     "output_type": "error",
     "traceback": [
      "\u001b[0;31m---------------------------------------------------------------------------\u001b[0m",
      "\u001b[0;31mFileNotFoundError\u001b[0m                         Traceback (most recent call last)",
      "Cell \u001b[0;32mIn[11], line 70\u001b[0m\n\u001b[1;32m     68\u001b[0m \u001b[38;5;66;03m# === Example Usage: Change path as needed ===\u001b[39;00m\n\u001b[1;32m     69\u001b[0m pdf_file_path \u001b[38;5;241m=\u001b[39m \u001b[38;5;124m\"\u001b[39m\u001b[38;5;124mstart/onesource.pdf\u001b[39m\u001b[38;5;124m\"\u001b[39m\n\u001b[0;32m---> 70\u001b[0m ocr_output \u001b[38;5;241m=\u001b[39m \u001b[43mrun_ocr_on_pdf\u001b[49m\u001b[43m(\u001b[49m\u001b[43mpdf_file_path\u001b[49m\u001b[43m)\u001b[49m\n",
      "Cell \u001b[0;32mIn[11], line 53\u001b[0m, in \u001b[0;36mrun_ocr_on_pdf\u001b[0;34m(pdf_path_str)\u001b[0m\n\u001b[1;32m     51\u001b[0m pdf_path \u001b[38;5;241m=\u001b[39m Path(pdf_path_str)\n\u001b[1;32m     52\u001b[0m \u001b[38;5;28;01mif\u001b[39;00m \u001b[38;5;129;01mnot\u001b[39;00m pdf_path\u001b[38;5;241m.\u001b[39mexists():\n\u001b[0;32m---> 53\u001b[0m     \u001b[38;5;28;01mraise\u001b[39;00m \u001b[38;5;167;01mFileNotFoundError\u001b[39;00m(\u001b[38;5;124mf\u001b[39m\u001b[38;5;124m\"\u001b[39m\u001b[38;5;124mPDF file not found: \u001b[39m\u001b[38;5;132;01m{\u001b[39;00mpdf_path\u001b[38;5;132;01m}\u001b[39;00m\u001b[38;5;124m\"\u001b[39m)\n\u001b[1;32m     55\u001b[0m \u001b[38;5;28mprint\u001b[39m(\u001b[38;5;124mf\u001b[39m\u001b[38;5;124m\"\u001b[39m\u001b[38;5;124m📄 Loading PDF: \u001b[39m\u001b[38;5;132;01m{\u001b[39;00mpdf_path\u001b[38;5;241m.\u001b[39mname\u001b[38;5;132;01m}\u001b[39;00m\u001b[38;5;124m\"\u001b[39m)\n\u001b[1;32m     56\u001b[0m pages \u001b[38;5;241m=\u001b[39m convert_from_path(\u001b[38;5;28mstr\u001b[39m(pdf_path), dpi\u001b[38;5;241m=\u001b[39m\u001b[38;5;241m200\u001b[39m)\n",
      "\u001b[0;31mFileNotFoundError\u001b[0m: PDF file not found: start/onesource.pdf"
     ]
    }
   ],
   "source": [
    "import os\n",
    "import base64\n",
    "from io import BytesIO\n",
    "from pathlib import Path\n",
    "from pdf2image import convert_from_path\n",
    "from openai import AzureOpenAI\n",
    "\n",
    "# === Azure OpenAI Client ===\n",
    "client = AzureOpenAI(\n",
    "    api_key=os.getenv(\"AZURE_OPENAI_API_KEY\", \"a87f3b6d9af74203b33788a796709638\"),\n",
    "    api_version=\"2024-02-01\",\n",
    "    azure_endpoint=os.getenv(\"AZURE_OPENAI_ENDPOINT\", \"https://synthetic-data-test.openai.azure.com\")\n",
    ")\n",
    "\n",
    "# === Load prompt from text file ===\n",
    "PROMPT_FILE = \"prompt.txt\"\n",
    "with open(PROMPT_FILE, \"r\", encoding=\"utf-8\") as f:\n",
    "    prompt_text = f.read().strip()\n",
    "\n",
    "# === OCR function that processes all pages at once ===\n",
    "def perform_ocr(images) -> str:\n",
    "    \"\"\"\n",
    "    Takes a list of PIL.Image objects (PDF pages) and sends them to GPT-4o for OCR.\n",
    "    \"\"\"\n",
    "    content = [{\"type\": \"text\", \"text\": prompt_text}]\n",
    "    for image in images:\n",
    "        buffered = BytesIO()\n",
    "        image.save(buffered, format=\"JPEG\")\n",
    "        base64_image = base64.b64encode(buffered.getvalue()).decode(\"utf-8\")\n",
    "        image_data_url = f\"data:image/jpeg;base64,{base64_image}\"\n",
    "        content.append({\n",
    "            \"type\": \"image_url\",\n",
    "            \"image_url\": {\"url\": image_data_url}\n",
    "        })\n",
    "\n",
    "    response = client.chat.completions.create(\n",
    "        model=\"gpt-4o\",\n",
    "        messages=[{\"role\": \"user\", \"content\": content}],\n",
    "        max_tokens=4096,\n",
    "        temperature=0.1,\n",
    "        top_p=0.7\n",
    "    )\n",
    "\n",
    "    return response.choices[0].message.content\n",
    "\n",
    "# === Function to run OCR on a PDF ===\n",
    "def run_ocr_on_pdf(pdf_path_str: str):\n",
    "    \"\"\"\n",
    "    Converts PDF to images, performs OCR on all pages together, and returns the text.\n",
    "    \"\"\"\n",
    "    pdf_path = Path(pdf_path_str)\n",
    "    if not pdf_path.exists():\n",
    "        raise FileNotFoundError(f\"PDF file not found: {pdf_path}\")\n",
    "\n",
    "    print(f\"📄 Loading PDF: {pdf_path.name}\")\n",
    "    pages = convert_from_path(str(pdf_path), dpi=200)\n",
    "\n",
    "    if len(pages) > 20:\n",
    "        print(f\"⚠️ Skipping {pdf_path.name}: too many pages ({len(pages)}). Limit is 20.\")\n",
    "        return \"\"\n",
    "\n",
    "    print(f\"🧠 Performing OCR on {len(pages)} pages together...\")\n",
    "    ocr_result = perform_ocr(pages)\n",
    "    print(\"\\n✅ OCR Output:\\n\")\n",
    "    print(ocr_result)\n",
    "    return ocr_result\n",
    "\n",
    "# === Example Usage: Change path as needed ===\n",
    "pdf_file_path = \"start/onesource.pdf\"\n",
    "ocr_output = run_ocr_on_pdf(pdf_file_path)\n"
   ]
  },
  {
   "cell_type": "code",
   "execution_count": null,
   "id": "a321268b",
   "metadata": {},
   "outputs": [],
   "source": []
  }
 ],
 "metadata": {
  "kernelspec": {
   "display_name": "newenv",
   "language": "python",
   "name": "python3"
  },
  "language_info": {
   "codemirror_mode": {
    "name": "ipython",
    "version": 3
   },
   "file_extension": ".py",
   "mimetype": "text/x-python",
   "name": "python",
   "nbconvert_exporter": "python",
   "pygments_lexer": "ipython3",
   "version": "3.9.18"
  }
 },
 "nbformat": 4,
 "nbformat_minor": 5
}
